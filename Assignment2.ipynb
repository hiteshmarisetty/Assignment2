{
 "cells": [
  {
   "cell_type": "markdown",
   "id": "0e22103c",
   "metadata": {},
   "source": [
    "1.What are the two values of the Boolean data type? How do you write them?"
   ]
  },
  {
   "cell_type": "markdown",
   "id": "791d5852",
   "metadata": {},
   "source": [
    "There are two Boolean. values: True and False."
   ]
  },
  {
   "cell_type": "markdown",
   "id": "2a64047e",
   "metadata": {},
   "source": [
    "2. What are the three different types of Boolean operators? "
   ]
  },
  {
   "cell_type": "markdown",
   "id": "cee5a7bf",
   "metadata": {},
   "source": [
    "The three basic boolean operators are: AND, OR, and NOT."
   ]
  },
  {
   "cell_type": "markdown",
   "id": "576dd7cd",
   "metadata": {},
   "source": [
    "3. Make a list of each Boolean operator's truth tables (i.e. every possible combination of Boolean values for the operator and what it evaluate )"
   ]
  },
  {
   "cell_type": "markdown",
   "id": "8731592a",
   "metadata": {},
   "source": [
    "please double click on cell to view all\n",
    "A\tB\tA or B\n",
    "True\tTrue\tTrue\n",
    "True\tFalse\tTrue\n",
    "False\tTrue\tTrue\n",
    "False\tFalse\tFalse\n",
    "\n",
    "A\tB\tA and B\n",
    "True\tTrue\tTrue\n",
    "True\tFalse\tFalse\n",
    "False\tTrue\tFalse\n",
    "False\tFalse\tFalse\n",
    "\n",
    "A\tNot A\n",
    "True\tFalse\n",
    "False\tTrue"
   ]
  },
  {
   "cell_type": "markdown",
   "id": "f8d0d816",
   "metadata": {},
   "source": [
    " 4. What are the values of the following expressions? (5 > 4) and (3 == 5) not (5 > 4) (5 > 4) or (3 == 5) not ((5 > 4) or (3 == 5)) (True and True) and (True == False) (not False) or (not True)  "
   ]
  },
  {
   "cell_type": "markdown",
   "id": "34cf8232",
   "metadata": {},
   "source": [
    "(5 > 4) and (3 == 5)----------false\n",
    "not (5 > 4) ---------------false\n",
    "(5 > 4) or (3 == 5)-------------false\n",
    "not ((5 > 4) or (3 == 5))----------false\n",
    "(True and True) and (True == False)---------false\n",
    "(not False) or (not True)----------true"
   ]
  },
  {
   "cell_type": "markdown",
   "id": "9a159450",
   "metadata": {},
   "source": [
    "5. What are the six comparison operators?"
   ]
  },
  {
   "cell_type": "markdown",
   "id": "7e5b4aa8",
   "metadata": {},
   "source": [
    " six comparison operators: less than ( < ), less than or equal to ( <= ), greater than ( > ), greater than or equal to ( >= ), equal to ( == ), and not equal to ( != )."
   ]
  },
  {
   "cell_type": "markdown",
   "id": "78507be8",
   "metadata": {},
   "source": [
    "6. How do you tell the difference between the equal to and assignment operators?Describe a condition and when you would use one. "
   ]
  },
  {
   "cell_type": "markdown",
   "id": "b22450c8",
   "metadata": {},
   "source": [
    "The assignment operator is used to assign the values to the variable. Equality Operator: The equality operator is used to compare the values of both the variables and the result is true or false."
   ]
  },
  {
   "cell_type": "markdown",
   "id": "ecefa2b1",
   "metadata": {},
   "source": [
    "7. Identify the three blocks in this code: spam = 0 if spam == 10: print('eggs') if spam > 5: print('bacon') else: print('ham') print('spam') print('spam') \n",
    "\n"
   ]
  },
  {
   "cell_type": "code",
   "execution_count": 1,
   "id": "52bc258f",
   "metadata": {},
   "outputs": [
    {
     "name": "stdout",
     "output_type": "stream",
     "text": [
      "ham\n",
      "spam\n",
      "spam\n"
     ]
    }
   ],
   "source": [
    "spam = 0\n",
    "if spam == 10:\n",
    "    print('eggs')\n",
    "if spam > 5:\n",
    "    print('bacon')\n",
    "else: \n",
    "    print('ham') \n",
    "    print('spam')\n",
    "    print('spam') "
   ]
  },
  {
   "cell_type": "markdown",
   "id": "2cecec00",
   "metadata": {},
   "source": [
    "8. Write code that prints Hello if 1 is stored in spam, prints Howdy if 2 is stored in spam, and prints Greetings! if anything else is stored in spam."
   ]
  },
  {
   "cell_type": "code",
   "execution_count": 2,
   "id": "894837ba",
   "metadata": {},
   "outputs": [
    {
     "name": "stdout",
     "output_type": "stream",
     "text": [
      "Greetings\n"
     ]
    }
   ],
   "source": [
    "if spam == 1:\n",
    "    print('Hello')\n",
    "if spam == 2:\n",
    "    print('Howdy')\n",
    "else: \n",
    "    print('Greetings') \n",
    "  "
   ]
  },
  {
   "cell_type": "markdown",
   "id": "c54990c2",
   "metadata": {},
   "source": [
    "9.If your programme is stuck in an endless loop, what keys you’ll press? "
   ]
  },
  {
   "cell_type": "markdown",
   "id": "6148090b",
   "metadata": {},
   "source": [
    "CTRL + C"
   ]
  },
  {
   "cell_type": "markdown",
   "id": "177699a1",
   "metadata": {},
   "source": [
    "10. How can you tell the difference between break and continue?"
   ]
  },
  {
   "cell_type": "markdown",
   "id": "ba95e5e6",
   "metadata": {},
   "source": [
    "Break Statement\t\n",
    "The break statement is usually used with the switch statement, and it can also use it within the while loop, do-while loop, or the for-loop.\n",
    "Continue Statement\n",
    "The continue statement is not used with the switch statement, but it can be used within the while loop, do-while loop, or for-loop."
   ]
  },
  {
   "cell_type": "markdown",
   "id": "c271268e",
   "metadata": {},
   "source": [
    " 11. In a for loop, what is the difference between range(10), range(0, 10), and range(0, 10, 1)? "
   ]
  },
  {
   "cell_type": "markdown",
   "id": "a66a3cab",
   "metadata": {},
   "source": [
    "all prints same but it changes quickly if we change numbers"
   ]
  },
  {
   "cell_type": "code",
   "execution_count": null,
   "id": "6eb8b292",
   "metadata": {},
   "outputs": [],
   "source": [
    "for i in range(10):# no matter what it runs only 10 times\n",
    "    print(i)\n",
    "print('----------------------------------------------')\n",
    "for i in range(0,10):#0 till 10 \n",
    "    print(i)\n",
    "print('----------------------------------------------')\n",
    "for i in range(0,10,1):#iterations is denoted by this like 0 to 10 step count as 1\n",
    "    print(i)"
   ]
  },
  {
   "cell_type": "markdown",
   "id": "f01b2e34",
   "metadata": {},
   "source": [
    "12. Write a short program that prints the numbers 1 to 10 using a for loop. Then write an equivalent program that prints the numbers 1 to 10 using a while loop."
   ]
  },
  {
   "cell_type": "code",
   "execution_count": null,
   "id": "928ba55b",
   "metadata": {},
   "outputs": [],
   "source": [
    "for i in range(1,11):# 10 times or we can denote i=1 and write range as 11\n",
    "    print(i)"
   ]
  },
  {
   "cell_type": "markdown",
   "id": "0a59850a",
   "metadata": {},
   "source": [
    " 13. If you had a function named bacon() inside a module named spam, how would you call it after importing spam?"
   ]
  },
  {
   "cell_type": "markdown",
   "id": "971f9ecd",
   "metadata": {},
   "source": [
    "spam.bacon()."
   ]
  },
  {
   "cell_type": "code",
   "execution_count": null,
   "id": "54c7bedc",
   "metadata": {},
   "outputs": [],
   "source": []
  },
  {
   "cell_type": "code",
   "execution_count": null,
   "id": "69b6d36a",
   "metadata": {},
   "outputs": [],
   "source": []
  },
  {
   "cell_type": "code",
   "execution_count": null,
   "id": "9ab09ad6",
   "metadata": {},
   "outputs": [],
   "source": []
  }
 ],
 "metadata": {
  "kernelspec": {
   "display_name": "Python 3",
   "language": "python",
   "name": "python3"
  },
  "language_info": {
   "codemirror_mode": {
    "name": "ipython",
    "version": 3
   },
   "file_extension": ".py",
   "mimetype": "text/x-python",
   "name": "python",
   "nbconvert_exporter": "python",
   "pygments_lexer": "ipython3",
   "version": "3.8.8"
  }
 },
 "nbformat": 4,
 "nbformat_minor": 5
}
